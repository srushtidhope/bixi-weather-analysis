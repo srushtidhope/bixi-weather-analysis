{
  "nbformat": 4,
  "nbformat_minor": 0,
  "metadata": {
    "colab": {
      "name": "helpr.ipynb",
      "version": "0.3.2",
      "provenance": []
    },
    "kernelspec": {
      "name": "python3",
      "display_name": "Python 3"
    }
  },
  "cells": [
    {
      "cell_type": "code",
      "metadata": {
        "id": "OQHJwbpnCUxo",
        "colab_type": "code",
        "colab": {}
      },
      "source": [
        "# Import libraries\n",
        "\n",
        "import pandas as pd\n",
        "import matplotlib.pyplot as plt\n",
        "\n",
        "drive_url = '/content/drive/My Drive/Colab Notebooks/bixi-weather-analysis/data/'"
      ],
      "execution_count": 0,
      "outputs": []
    },
    {
      "cell_type": "code",
      "metadata": {
        "id": "5hsjvzeQCU1H",
        "colab_type": "code",
        "colab": {}
      },
      "source": [
        "# Function to read load multiple files into dataframes\n",
        "\n",
        "def read_file(files):\n",
        "    \n",
        "    list_df = []\n",
        "    \n",
        "    for file in files:\n",
        "        \n",
        "        df = pd.read_csv(drive_url+file)\n",
        "        list_df.append(df)\n",
        "        \n",
        "    return list_df"
      ],
      "execution_count": 0,
      "outputs": []
    },
    {
      "cell_type": "code",
      "metadata": {
        "id": "jOpOHq3GDtnO",
        "colab_type": "code",
        "colab": {}
      },
      "source": [
        "# Function to write multiple dataframes to files\n",
        "\n",
        "def to_file(list_df_file):\n",
        "    \n",
        "    for (df,file) in list_df_file:\n",
        "        \n",
        "        df.to_csv(drive_url+file, index=False)"
      ],
      "execution_count": 0,
      "outputs": []
    },
    {
      "cell_type": "code",
      "metadata": {
        "id": "8AL3t-1tGZqY",
        "colab_type": "code",
        "colab": {}
      },
      "source": [
        "# Function to extract data from columns of a dataframe\n",
        "\n",
        "def extract_col_data(list_df_cols):\n",
        "    \n",
        "    list_df_ecd = []\n",
        "    \n",
        "    for (df, cols) in list_df_cols:\n",
        "        \n",
        "        df = df[cols]\n",
        "        list_df_ecd.append(df)\n",
        "        \n",
        "    return list_df_ecd"
      ],
      "execution_count": 0,
      "outputs": []
    },
    {
      "cell_type": "code",
      "metadata": {
        "id": "xncWbZAVDxXR",
        "colab_type": "code",
        "colab": {}
      },
      "source": [
        "# Function to convert dataframe column to datetime format\n",
        "\n",
        "def to_dt(list_df_cols):\n",
        "    \n",
        "    list_df_dt = []\n",
        "    \n",
        "    for (df, cols) in list_df_cols:\n",
        "        \n",
        "        for col in cols:\n",
        "            df[col] = pd.to_datetime(df[col])\n",
        "            \n",
        "        list_df_dt.append(df)\n",
        "        \n",
        "    return list_df_dt"
      ],
      "execution_count": 0,
      "outputs": []
    },
    {
      "cell_type": "code",
      "metadata": {
        "id": "RpFwfDmQ4CXW",
        "colab_type": "code",
        "colab": {}
      },
      "source": [
        "# Function to add columns for month, day_of_week, hour\n",
        "\n",
        "def add_dt_cols(list_df):\n",
        "    \n",
        "    list_df_df_cols = []\n",
        "    df_2014, df_2015, df_2016, df_2017 = list_df\n",
        "    list_df = to_dt([(df_2014, ['start_date']), (df_2015, ['start_date']), (df_2016, ['start_date']), (df_2017, ['start_date'])])\n",
        "    \n",
        "    for df in list_df:\n",
        "        \n",
        "        df['month'] = df.start_date.dt.month\n",
        "        df['day_of_week'] = df.start_date.dt.day_name\n",
        "        df['hour'] = df.start_date.dt.hour\n",
        "        list_df_df_cols.append(df)\n",
        "        \n",
        "    return list_df_df_cols"
      ],
      "execution_count": 0,
      "outputs": []
    }
  ]
}
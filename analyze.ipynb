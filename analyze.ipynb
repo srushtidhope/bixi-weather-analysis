{
  "nbformat": 4,
  "nbformat_minor": 0,
  "metadata": {
    "colab": {
      "name": "analyze.ipynb",
      "version": "0.3.2",
      "provenance": []
    },
    "kernelspec": {
      "name": "python3",
      "display_name": "Python 3"
    }
  },
  "cells": [
    {
      "cell_type": "code",
      "metadata": {
        "id": "7YXky9ngfsrJ",
        "colab_type": "code",
        "colab": {}
      },
      "source": [
        "import pandas as pd\n",
        "import matplotlib.pyplot as plt\n",
        "from sklearn.metrics import mean_squared_error"
      ],
      "execution_count": 0,
      "outputs": []
    },
    {
      "cell_type": "code",
      "metadata": {
        "id": "kIk7DPf1fsub",
        "colab_type": "code",
        "colab": {}
      },
      "source": [
        "# Mean squared error\n",
        "\n",
        "def error_MSE(y_test, y_pred):\n",
        "    \n",
        "    print(\"Mean squared error: %f\" % (mean_squared_error(y_test, y_pred)))\n",
        "    \n",
        "    plt.figure(figsize=(15,8))\n",
        "     \n",
        "    plt.plot(y_test)\n",
        "    plt.plot(y_pred,'r')\n",
        "    plt.grid=True\n",
        "    plt.title('Bixi usage count - real vs prediction');\n",
        "    plt.legend(['Real',u'Prediction'])"
      ],
      "execution_count": 0,
      "outputs": []
    },
    {
      "cell_type": "code",
      "metadata": {
        "id": "BkqVV9gtpfBp",
        "colab_type": "code",
        "colab": {}
      },
      "source": [
        "# Inverse transform of MinMaxScaler\n",
        "\n",
        "def unnormalize(y_pred, scaler):\n",
        "    \n",
        "    y_predicted = scaler.inverse_transform(y_pred)\n",
        "    \n",
        "    return y_predicted"
      ],
      "execution_count": 0,
      "outputs": []
    }
  ]
}
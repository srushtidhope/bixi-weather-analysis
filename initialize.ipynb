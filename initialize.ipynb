{
  "nbformat": 4,
  "nbformat_minor": 0,
  "metadata": {
    "colab": {
      "name": "initialize.ipynb",
      "version": "0.3.2",
      "provenance": []
    },
    "kernelspec": {
      "name": "python3",
      "display_name": "Python 3"
    }
  },
  "cells": [
    {
      "cell_type": "code",
      "metadata": {
        "id": "nDp9Yu3ZMJcV",
        "colab_type": "code",
        "colab": {}
      },
      "source": [
        "# Import libraries\n",
        "\n",
        "import helpr\n",
        "import pandas as pd"
      ],
      "execution_count": 0,
      "outputs": []
    },
    {
      "cell_type": "code",
      "metadata": {
        "id": "OFlbRCF5QGLn",
        "colab_type": "code",
        "colab": {}
      },
      "source": [
        "def init_weather(city, years):\n",
        "    \n",
        "    # Read temperature and weather data files\n",
        "    \n",
        "    df_temp, df_wea = helpr.read_file(['temperature.csv', 'weather_description.csv'])\n",
        "    \n",
        "    # Extract temperature and weather data for city\n",
        "    \n",
        "    mtl_cols = ['datetime', city]\n",
        "    df_temp, df_wea = helpr.extract_col_data([(df_temp, mtl_cols), (df_wea, mtl_cols)])\n",
        "    df_temp[city] = df_temp[city] - 273.15 # Kelvin to Celsius\n",
        "    \n",
        "    # Merge city temperature and weather data\n",
        "    \n",
        "    df_temp, df_wea = helpr.to_dt([(df_temp,['datetime']), (df_wea,['datetime'])])\n",
        "    df_temp_wea = pd.merge(df_temp, df_wea, on='datetime')\n",
        "    df_temp_wea = df_temp_wea[df_temp_wea.datetime.dt.year>years]\n",
        "    df_temp_wea.columns = ['datetime','temperature','weather']\n",
        "    \n",
        "    print('Weather data initialization complete.')\n",
        "\n",
        "    return df_temp_wea"
      ],
      "execution_count": 0,
      "outputs": []
    },
    {
      "cell_type": "code",
      "metadata": {
        "id": "ZCoydq3qCfel",
        "colab_type": "code",
        "colab": {}
      },
      "source": [
        "def init_bixi(city, years, datafiles):\n",
        "    \n",
        "    # Get Montreal temperature and weather data, from hereon referred to as just weather data\n",
        "    df_wea = init_weather(city, years)\n",
        "    \n",
        "    list_df = []\n",
        "    \n",
        "    for file in datafiles:\n",
        "        \n",
        "        [df_bixi] = helpr.read_file([file])\n",
        "        [df_bixi] = helpr.to_dt([(df_bixi, ['start_date', 'end_date'])])\n",
        "        \n",
        "        df_bixi = df_bixi.sort_values(by = ['start_date'])\n",
        "        df_bixi = pd.merge_asof(df_bixi, df_wea, left_on = 'start_date', right_on = 'datetime', direction = 'nearest').drop('datetime',  axis=1)\n",
        "        \n",
        "        [df_bixi] = helpr.to_dt([(df_bixi, ['start_date'])])\n",
        "        df_bixi['year'] = df_bixi.start_date.dt.year\n",
        "        df_bixi['month'] = df_bixi.start_date.dt.month\n",
        "        df_bixi['week_num'] = df_bixi.start_date.dt.weekofyear\n",
        "        df_bixi['day_of_week'] = df_bixi.start_date.dt.dayofweek\n",
        "        df_bixi['hour'] = df_bixi.start_date.dt.hour\n",
        "    \n",
        "        list_df.append(df_bixi)\n",
        "        \n",
        "    print('Bixi data initialization complete.')\n",
        "        \n",
        "    return list_df"
      ],
      "execution_count": 0,
      "outputs": []
    }
  ]
}